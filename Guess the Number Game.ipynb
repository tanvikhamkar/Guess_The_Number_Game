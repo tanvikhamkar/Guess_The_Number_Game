{
 "cells": [
  {
   "cell_type": "markdown",
   "id": "5a8ab49b",
   "metadata": {},
   "source": [
    "Try to play game with computer.\n",
    "\n",
    "The computer will think of a random number from 1 to 10 as secret number.\n",
    "Then ask player to guess the number and store it as guess number.\n",
    "\n",
    "Compare the guess number with the secret number.\n",
    "    \n",
    "If the player guesses the right number he wins, so print player wins and computer loses.\n",
    "    \n",
    "If the player guesses the wrong number, then he loses so print player loses and computer wins.\n"
   ]
  },
  {
   "cell_type": "code",
   "execution_count": 2,
   "id": "2ba7739b",
   "metadata": {},
   "outputs": [
    {
     "name": "stdout",
     "output_type": "stream",
     "text": [
      "Guess the number between 1 and 10: 9\n",
      "Player wins and computer loses\n"
     ]
    }
   ],
   "source": [
    "import random\n",
    "\n",
    "secret_number = random.randint(1,10)\n",
    "\n",
    "guess = int(input(\"Guess the number between 1 and 10: \"))\n",
    "\n",
    "if (guess  == secret_number):\n",
    "    print (\"Player wins and computer loses\")\n",
    "else:\n",
    "    print (\"Player loses and computer wins\")"
   ]
  }
 ],
 "metadata": {
  "kernelspec": {
   "display_name": "Python 3 (ipykernel)",
   "language": "python",
   "name": "python3"
  },
  "language_info": {
   "codemirror_mode": {
    "name": "ipython",
    "version": 3
   },
   "file_extension": ".py",
   "mimetype": "text/x-python",
   "name": "python",
   "nbconvert_exporter": "python",
   "pygments_lexer": "ipython3",
   "version": "3.9.7"
  }
 },
 "nbformat": 4,
 "nbformat_minor": 5
}
